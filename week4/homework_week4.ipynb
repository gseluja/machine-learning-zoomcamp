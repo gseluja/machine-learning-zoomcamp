{
 "cells": [
  {
   "cell_type": "markdown",
   "id": "95194956",
   "metadata": {},
   "source": [
    "## Homework Week 4"
   ]
  },
  {
   "cell_type": "markdown",
   "id": "a4b008f0",
   "metadata": {},
   "source": [
    "### Data Preparation"
   ]
  },
  {
   "cell_type": "code",
   "execution_count": 1,
   "id": "43426e98",
   "metadata": {},
   "outputs": [],
   "source": [
    "import numpy as np\n",
    "import pandas as pd"
   ]
  },
  {
   "cell_type": "code",
   "execution_count": 2,
   "id": "b228d45a",
   "metadata": {},
   "outputs": [],
   "source": [
    "columns = ['Make', 'Model', 'Year', 'Engine HP', 'Engine Cylinders', 'Transmission Type', 'Vehicle Style', 'highway MPG', 'city mpg', 'MSRP']"
   ]
  },
  {
   "cell_type": "code",
   "execution_count": 3,
   "id": "ae58b1a9",
   "metadata": {},
   "outputs": [],
   "source": [
    "# Load csv to pandas dataframework\n",
    "df = pd.read_csv('car_price.csv')"
   ]
  },
  {
   "cell_type": "code",
   "execution_count": 4,
   "id": "60e835b6",
   "metadata": {},
   "outputs": [],
   "source": [
    "# Shortlist columns\n",
    "df = df[columns]"
   ]
  },
  {
   "cell_type": "code",
   "execution_count": 5,
   "id": "b886c11d",
   "metadata": {},
   "outputs": [],
   "source": [
    "# Uniform columns name\n",
    "df.columns = df.columns.str.lower().str.replace(' ', '_')"
   ]
  },
  {
   "cell_type": "code",
   "execution_count": 6,
   "id": "35a8b3b9",
   "metadata": {},
   "outputs": [],
   "source": [
    "# Uniform categorical data values\n",
    "categorical = list(df.dtypes[df.dtypes == 'object'].index)\n",
    "for c in categorical:\n",
    "    df[c] = df[c].str.lower().str.replace(' ', '_')"
   ]
  },
  {
   "cell_type": "code",
   "execution_count": 7,
   "id": "e5912fcf",
   "metadata": {},
   "outputs": [
    {
     "data": {
      "text/plain": [
       "make                  0\n",
       "model                 0\n",
       "year                  0\n",
       "engine_hp            69\n",
       "engine_cylinders     30\n",
       "transmission_type     0\n",
       "vehicle_style         0\n",
       "highway_mpg           0\n",
       "city_mpg              0\n",
       "msrp                  0\n",
       "dtype: int64"
      ]
     },
     "execution_count": 7,
     "metadata": {},
     "output_type": "execute_result"
    }
   ],
   "source": [
    "# Check missing values\n",
    "df.shape[0] - df.notnull().sum()\n",
    "# categorical ['make', 'model', 'transmission_type', 'vehicle_style']"
   ]
  },
  {
   "cell_type": "code",
   "execution_count": 8,
   "id": "d351e04b",
   "metadata": {},
   "outputs": [
    {
     "data": {
      "text/plain": [
       "make                 0\n",
       "model                0\n",
       "year                 0\n",
       "engine_hp            0\n",
       "engine_cylinders     0\n",
       "transmission_type    0\n",
       "vehicle_style        0\n",
       "highway_mpg          0\n",
       "city_mpg             0\n",
       "msrp                 0\n",
       "dtype: int64"
      ]
     },
     "execution_count": 8,
     "metadata": {},
     "output_type": "execute_result"
    }
   ],
   "source": [
    "# Fill missing values\n",
    "col_with_null = (df.shape[0] - df.notnull().sum()) > 0\n",
    "col_with_null = list(df[df.columns[col_with_null]].columns)\n",
    "df[col_with_null] = df[col_with_null].fillna(0)\n",
    "df.shape[0] - df.notnull().sum()"
   ]
  },
  {
   "cell_type": "code",
   "execution_count": 9,
   "id": "a26a0dbc",
   "metadata": {},
   "outputs": [],
   "source": [
    "msrp_avg = df['msrp'].mean()\n",
    "df['above_average'] = df.apply(lambda x: 1 if x['msrp'] > msrp_avg else 0, axis=1)\n",
    "del df['msrp']"
   ]
  },
  {
   "cell_type": "code",
   "execution_count": 10,
   "id": "465a324d",
   "metadata": {},
   "outputs": [
    {
     "data": {
      "text/html": [
       "<div>\n",
       "<style scoped>\n",
       "    .dataframe tbody tr th:only-of-type {\n",
       "        vertical-align: middle;\n",
       "    }\n",
       "\n",
       "    .dataframe tbody tr th {\n",
       "        vertical-align: top;\n",
       "    }\n",
       "\n",
       "    .dataframe thead th {\n",
       "        text-align: right;\n",
       "    }\n",
       "</style>\n",
       "<table border=\"1\" class=\"dataframe\">\n",
       "  <thead>\n",
       "    <tr style=\"text-align: right;\">\n",
       "      <th></th>\n",
       "      <th>make</th>\n",
       "      <th>model</th>\n",
       "      <th>year</th>\n",
       "      <th>engine_hp</th>\n",
       "      <th>engine_cylinders</th>\n",
       "      <th>transmission_type</th>\n",
       "      <th>vehicle_style</th>\n",
       "      <th>highway_mpg</th>\n",
       "      <th>city_mpg</th>\n",
       "      <th>above_average</th>\n",
       "    </tr>\n",
       "  </thead>\n",
       "  <tbody>\n",
       "    <tr>\n",
       "      <th>0</th>\n",
       "      <td>bmw</td>\n",
       "      <td>1_series_m</td>\n",
       "      <td>2011</td>\n",
       "      <td>335.0</td>\n",
       "      <td>6.0</td>\n",
       "      <td>manual</td>\n",
       "      <td>coupe</td>\n",
       "      <td>26</td>\n",
       "      <td>19</td>\n",
       "      <td>1</td>\n",
       "    </tr>\n",
       "    <tr>\n",
       "      <th>1</th>\n",
       "      <td>bmw</td>\n",
       "      <td>1_series</td>\n",
       "      <td>2011</td>\n",
       "      <td>300.0</td>\n",
       "      <td>6.0</td>\n",
       "      <td>manual</td>\n",
       "      <td>convertible</td>\n",
       "      <td>28</td>\n",
       "      <td>19</td>\n",
       "      <td>1</td>\n",
       "    </tr>\n",
       "    <tr>\n",
       "      <th>2</th>\n",
       "      <td>bmw</td>\n",
       "      <td>1_series</td>\n",
       "      <td>2011</td>\n",
       "      <td>300.0</td>\n",
       "      <td>6.0</td>\n",
       "      <td>manual</td>\n",
       "      <td>coupe</td>\n",
       "      <td>28</td>\n",
       "      <td>20</td>\n",
       "      <td>0</td>\n",
       "    </tr>\n",
       "    <tr>\n",
       "      <th>3</th>\n",
       "      <td>bmw</td>\n",
       "      <td>1_series</td>\n",
       "      <td>2011</td>\n",
       "      <td>230.0</td>\n",
       "      <td>6.0</td>\n",
       "      <td>manual</td>\n",
       "      <td>coupe</td>\n",
       "      <td>28</td>\n",
       "      <td>18</td>\n",
       "      <td>0</td>\n",
       "    </tr>\n",
       "    <tr>\n",
       "      <th>4</th>\n",
       "      <td>bmw</td>\n",
       "      <td>1_series</td>\n",
       "      <td>2011</td>\n",
       "      <td>230.0</td>\n",
       "      <td>6.0</td>\n",
       "      <td>manual</td>\n",
       "      <td>convertible</td>\n",
       "      <td>28</td>\n",
       "      <td>18</td>\n",
       "      <td>0</td>\n",
       "    </tr>\n",
       "    <tr>\n",
       "      <th>...</th>\n",
       "      <td>...</td>\n",
       "      <td>...</td>\n",
       "      <td>...</td>\n",
       "      <td>...</td>\n",
       "      <td>...</td>\n",
       "      <td>...</td>\n",
       "      <td>...</td>\n",
       "      <td>...</td>\n",
       "      <td>...</td>\n",
       "      <td>...</td>\n",
       "    </tr>\n",
       "    <tr>\n",
       "      <th>11909</th>\n",
       "      <td>acura</td>\n",
       "      <td>zdx</td>\n",
       "      <td>2012</td>\n",
       "      <td>300.0</td>\n",
       "      <td>6.0</td>\n",
       "      <td>automatic</td>\n",
       "      <td>4dr_hatchback</td>\n",
       "      <td>23</td>\n",
       "      <td>16</td>\n",
       "      <td>1</td>\n",
       "    </tr>\n",
       "    <tr>\n",
       "      <th>11910</th>\n",
       "      <td>acura</td>\n",
       "      <td>zdx</td>\n",
       "      <td>2012</td>\n",
       "      <td>300.0</td>\n",
       "      <td>6.0</td>\n",
       "      <td>automatic</td>\n",
       "      <td>4dr_hatchback</td>\n",
       "      <td>23</td>\n",
       "      <td>16</td>\n",
       "      <td>1</td>\n",
       "    </tr>\n",
       "    <tr>\n",
       "      <th>11911</th>\n",
       "      <td>acura</td>\n",
       "      <td>zdx</td>\n",
       "      <td>2012</td>\n",
       "      <td>300.0</td>\n",
       "      <td>6.0</td>\n",
       "      <td>automatic</td>\n",
       "      <td>4dr_hatchback</td>\n",
       "      <td>23</td>\n",
       "      <td>16</td>\n",
       "      <td>1</td>\n",
       "    </tr>\n",
       "    <tr>\n",
       "      <th>11912</th>\n",
       "      <td>acura</td>\n",
       "      <td>zdx</td>\n",
       "      <td>2013</td>\n",
       "      <td>300.0</td>\n",
       "      <td>6.0</td>\n",
       "      <td>automatic</td>\n",
       "      <td>4dr_hatchback</td>\n",
       "      <td>23</td>\n",
       "      <td>16</td>\n",
       "      <td>1</td>\n",
       "    </tr>\n",
       "    <tr>\n",
       "      <th>11913</th>\n",
       "      <td>lincoln</td>\n",
       "      <td>zephyr</td>\n",
       "      <td>2006</td>\n",
       "      <td>221.0</td>\n",
       "      <td>6.0</td>\n",
       "      <td>automatic</td>\n",
       "      <td>sedan</td>\n",
       "      <td>26</td>\n",
       "      <td>17</td>\n",
       "      <td>0</td>\n",
       "    </tr>\n",
       "  </tbody>\n",
       "</table>\n",
       "<p>11914 rows × 10 columns</p>\n",
       "</div>"
      ],
      "text/plain": [
       "          make       model  year  engine_hp  engine_cylinders  \\\n",
       "0          bmw  1_series_m  2011      335.0               6.0   \n",
       "1          bmw    1_series  2011      300.0               6.0   \n",
       "2          bmw    1_series  2011      300.0               6.0   \n",
       "3          bmw    1_series  2011      230.0               6.0   \n",
       "4          bmw    1_series  2011      230.0               6.0   \n",
       "...        ...         ...   ...        ...               ...   \n",
       "11909    acura         zdx  2012      300.0               6.0   \n",
       "11910    acura         zdx  2012      300.0               6.0   \n",
       "11911    acura         zdx  2012      300.0               6.0   \n",
       "11912    acura         zdx  2013      300.0               6.0   \n",
       "11913  lincoln      zephyr  2006      221.0               6.0   \n",
       "\n",
       "      transmission_type  vehicle_style  highway_mpg  city_mpg  above_average  \n",
       "0                manual          coupe           26        19              1  \n",
       "1                manual    convertible           28        19              1  \n",
       "2                manual          coupe           28        20              0  \n",
       "3                manual          coupe           28        18              0  \n",
       "4                manual    convertible           28        18              0  \n",
       "...                 ...            ...          ...       ...            ...  \n",
       "11909         automatic  4dr_hatchback           23        16              1  \n",
       "11910         automatic  4dr_hatchback           23        16              1  \n",
       "11911         automatic  4dr_hatchback           23        16              1  \n",
       "11912         automatic  4dr_hatchback           23        16              1  \n",
       "11913         automatic          sedan           26        17              0  \n",
       "\n",
       "[11914 rows x 10 columns]"
      ]
     },
     "execution_count": 10,
     "metadata": {},
     "output_type": "execute_result"
    }
   ],
   "source": [
    "df"
   ]
  },
  {
   "cell_type": "code",
   "execution_count": 11,
   "id": "e37f6453",
   "metadata": {},
   "outputs": [],
   "source": [
    "from sklearn.model_selection import train_test_split"
   ]
  },
  {
   "cell_type": "code",
   "execution_count": 12,
   "id": "c52b6c61",
   "metadata": {},
   "outputs": [
    {
     "data": {
      "text/plain": [
       "(7148, 2383, 2383)"
      ]
     },
     "execution_count": 12,
     "metadata": {},
     "output_type": "execute_result"
    }
   ],
   "source": [
    "# Split data into 3 parts: train/validation/test with 60%/20%/20% distribution\n",
    "df_full_train, df_test = train_test_split(df, test_size=0.2, random_state=1)\n",
    "df_train, df_val = train_test_split(df_full_train, test_size=0.25, random_state=1)\n",
    "\n",
    "len(df_train), len(df_test), len(df_val)"
   ]
  },
  {
   "cell_type": "code",
   "execution_count": 13,
   "id": "38b53bee",
   "metadata": {},
   "outputs": [],
   "source": [
    "# Split data sets into features and target\n",
    "y_train = df_train.above_average\n",
    "y_val = df_val.above_average\n",
    "y_test = df_test.above_average\n",
    "del df_train['above_average']\n",
    "del df_val['above_average']\n",
    "del df_test['above_average']"
   ]
  },
  {
   "cell_type": "markdown",
   "id": "ad2f55a0",
   "metadata": {
    "heading_collapsed": true
   },
   "source": [
    "### Question 1: ROC AUC feature importance"
   ]
  },
  {
   "cell_type": "code",
   "execution_count": 14,
   "id": "10d178d4",
   "metadata": {
    "hidden": true
   },
   "outputs": [
    {
     "data": {
      "text/plain": [
       "['year', 'engine_hp', 'engine_cylinders', 'highway_mpg', 'city_mpg']"
      ]
     },
     "execution_count": 14,
     "metadata": {},
     "output_type": "execute_result"
    }
   ],
   "source": [
    "numerical = list(df_train.dtypes[df_train.dtypes != 'object'].index)\n",
    "numerical"
   ]
  },
  {
   "cell_type": "code",
   "execution_count": 15,
   "id": "f467a840",
   "metadata": {
    "hidden": true
   },
   "outputs": [],
   "source": [
    "from sklearn.metrics import roc_curve, roc_auc_score\n",
    "from sklearn.linear_model import LogisticRegression"
   ]
  },
  {
   "cell_type": "code",
   "execution_count": 16,
   "id": "e1a2d338",
   "metadata": {
    "code_folding": [],
    "hidden": true
   },
   "outputs": [],
   "source": [
    "# Calculate the ROC AUC for each numerical feature\n",
    "roc_auc = []\n",
    "for numeric in numerical:\n",
    "    model = LogisticRegression()\n",
    "    model.fit(df_train[numeric].to_frame(), y_train)\n",
    "    y_pred = model.predict(df_val[numeric].to_frame())\n",
    "    roc_auc.append(roc_auc_score(y_val, y_pred))"
   ]
  },
  {
   "cell_type": "code",
   "execution_count": 17,
   "id": "e34df396",
   "metadata": {
    "hidden": true
   },
   "outputs": [
    {
     "data": {
      "text/plain": [
       "[('year', 0.5),\n",
       " ('engine_hp', 0.7966431604770571),\n",
       " ('engine_cylinders', 0.6923457196272261),\n",
       " ('highway_mpg', 0.5),\n",
       " ('city_mpg', 0.5022935779816514)]"
      ]
     },
     "execution_count": 17,
     "metadata": {},
     "output_type": "execute_result"
    }
   ],
   "source": [
    "roc_auc_values = list(zip(numerical, roc_auc))\n",
    "roc_auc_values"
   ]
  },
  {
   "cell_type": "code",
   "execution_count": 18,
   "id": "83aeba9d",
   "metadata": {
    "hidden": true
   },
   "outputs": [
    {
     "name": "stdout",
     "output_type": "stream",
     "text": [
      "Higher feature is **engine_hp** with value of **0.797**\n"
     ]
    }
   ],
   "source": [
    "# Get the higher value numerical feature\n",
    "roc_auc_values.sort(key=lambda x: x[1], reverse=True)\n",
    "print ('Higher feature is **%s** with value of **%.3f**' % (roc_auc_values[0][0], roc_auc_values[0][1]))"
   ]
  },
  {
   "cell_type": "markdown",
   "id": "a9db5d5b",
   "metadata": {},
   "source": [
    "### Question 2: Training the model"
   ]
  },
  {
   "cell_type": "code",
   "execution_count": 19,
   "id": "4813870f",
   "metadata": {},
   "outputs": [],
   "source": [
    "from sklearn.feature_extraction import DictVectorizer"
   ]
  },
  {
   "cell_type": "code",
   "execution_count": 20,
   "id": "bfdf09a5",
   "metadata": {},
   "outputs": [],
   "source": [
    "# Apply one-hot-encoding using DictVectorizer\n",
    "dv = DictVectorizer(sparse=False)\n",
    "features = numerical + categorical\n",
    "\n",
    "train_dict = df_train[features].to_dict(orient='records')\n",
    "X_train = dv.fit_transform(train_dict)\n",
    "\n",
    "val_dict = df_val[features].to_dict(orient='records')\n",
    "X_val = dv.transform(val_dict)"
   ]
  },
  {
   "cell_type": "code",
   "execution_count": 21,
   "id": "70e55628",
   "metadata": {},
   "outputs": [
    {
     "data": {
      "text/html": [
       "<style>#sk-container-id-1 {color: black;background-color: white;}#sk-container-id-1 pre{padding: 0;}#sk-container-id-1 div.sk-toggleable {background-color: white;}#sk-container-id-1 label.sk-toggleable__label {cursor: pointer;display: block;width: 100%;margin-bottom: 0;padding: 0.3em;box-sizing: border-box;text-align: center;}#sk-container-id-1 label.sk-toggleable__label-arrow:before {content: \"▸\";float: left;margin-right: 0.25em;color: #696969;}#sk-container-id-1 label.sk-toggleable__label-arrow:hover:before {color: black;}#sk-container-id-1 div.sk-estimator:hover label.sk-toggleable__label-arrow:before {color: black;}#sk-container-id-1 div.sk-toggleable__content {max-height: 0;max-width: 0;overflow: hidden;text-align: left;background-color: #f0f8ff;}#sk-container-id-1 div.sk-toggleable__content pre {margin: 0.2em;color: black;border-radius: 0.25em;background-color: #f0f8ff;}#sk-container-id-1 input.sk-toggleable__control:checked~div.sk-toggleable__content {max-height: 200px;max-width: 100%;overflow: auto;}#sk-container-id-1 input.sk-toggleable__control:checked~label.sk-toggleable__label-arrow:before {content: \"▾\";}#sk-container-id-1 div.sk-estimator input.sk-toggleable__control:checked~label.sk-toggleable__label {background-color: #d4ebff;}#sk-container-id-1 div.sk-label input.sk-toggleable__control:checked~label.sk-toggleable__label {background-color: #d4ebff;}#sk-container-id-1 input.sk-hidden--visually {border: 0;clip: rect(1px 1px 1px 1px);clip: rect(1px, 1px, 1px, 1px);height: 1px;margin: -1px;overflow: hidden;padding: 0;position: absolute;width: 1px;}#sk-container-id-1 div.sk-estimator {font-family: monospace;background-color: #f0f8ff;border: 1px dotted black;border-radius: 0.25em;box-sizing: border-box;margin-bottom: 0.5em;}#sk-container-id-1 div.sk-estimator:hover {background-color: #d4ebff;}#sk-container-id-1 div.sk-parallel-item::after {content: \"\";width: 100%;border-bottom: 1px solid gray;flex-grow: 1;}#sk-container-id-1 div.sk-label:hover label.sk-toggleable__label {background-color: #d4ebff;}#sk-container-id-1 div.sk-serial::before {content: \"\";position: absolute;border-left: 1px solid gray;box-sizing: border-box;top: 0;bottom: 0;left: 50%;z-index: 0;}#sk-container-id-1 div.sk-serial {display: flex;flex-direction: column;align-items: center;background-color: white;padding-right: 0.2em;padding-left: 0.2em;position: relative;}#sk-container-id-1 div.sk-item {position: relative;z-index: 1;}#sk-container-id-1 div.sk-parallel {display: flex;align-items: stretch;justify-content: center;background-color: white;position: relative;}#sk-container-id-1 div.sk-item::before, #sk-container-id-1 div.sk-parallel-item::before {content: \"\";position: absolute;border-left: 1px solid gray;box-sizing: border-box;top: 0;bottom: 0;left: 50%;z-index: -1;}#sk-container-id-1 div.sk-parallel-item {display: flex;flex-direction: column;z-index: 1;position: relative;background-color: white;}#sk-container-id-1 div.sk-parallel-item:first-child::after {align-self: flex-end;width: 50%;}#sk-container-id-1 div.sk-parallel-item:last-child::after {align-self: flex-start;width: 50%;}#sk-container-id-1 div.sk-parallel-item:only-child::after {width: 0;}#sk-container-id-1 div.sk-dashed-wrapped {border: 1px dashed gray;margin: 0 0.4em 0.5em 0.4em;box-sizing: border-box;padding-bottom: 0.4em;background-color: white;}#sk-container-id-1 div.sk-label label {font-family: monospace;font-weight: bold;display: inline-block;line-height: 1.2em;}#sk-container-id-1 div.sk-label-container {text-align: center;}#sk-container-id-1 div.sk-container {/* jupyter's `normalize.less` sets `[hidden] { display: none; }` but bootstrap.min.css set `[hidden] { display: none !important; }` so we also need the `!important` here to be able to override the default hidden behavior on the sphinx rendered scikit-learn.org. See: https://github.com/scikit-learn/scikit-learn/issues/21755 */display: inline-block !important;position: relative;}#sk-container-id-1 div.sk-text-repr-fallback {display: none;}</style><div id=\"sk-container-id-1\" class=\"sk-top-container\"><div class=\"sk-text-repr-fallback\"><pre>LogisticRegression(max_iter=1000, solver=&#x27;liblinear&#x27;)</pre><b>In a Jupyter environment, please rerun this cell to show the HTML representation or trust the notebook. <br />On GitHub, the HTML representation is unable to render, please try loading this page with nbviewer.org.</b></div><div class=\"sk-container\" hidden><div class=\"sk-item\"><div class=\"sk-estimator sk-toggleable\"><input class=\"sk-toggleable__control sk-hidden--visually\" id=\"sk-estimator-id-1\" type=\"checkbox\" checked><label for=\"sk-estimator-id-1\" class=\"sk-toggleable__label sk-toggleable__label-arrow\">LogisticRegression</label><div class=\"sk-toggleable__content\"><pre>LogisticRegression(max_iter=1000, solver=&#x27;liblinear&#x27;)</pre></div></div></div></div></div>"
      ],
      "text/plain": [
       "LogisticRegression(max_iter=1000, solver='liblinear')"
      ]
     },
     "execution_count": 21,
     "metadata": {},
     "output_type": "execute_result"
    }
   ],
   "source": [
    "# Fitting the model using logistic regression\n",
    "model = LogisticRegression(solver='liblinear', C=1.0, max_iter=1000)\n",
    "model.fit(X_train, y_train)"
   ]
  },
  {
   "cell_type": "code",
   "execution_count": 22,
   "id": "563b1f8a",
   "metadata": {},
   "outputs": [
    {
     "data": {
      "text/plain": [
       "array([0.66923759, 0.00692016, 0.34113734, ..., 0.00419114, 0.99999409,\n",
       "       0.05309672])"
      ]
     },
     "execution_count": 22,
     "metadata": {},
     "output_type": "execute_result"
    }
   ],
   "source": [
    "# Predicting the model using the validation set\n",
    "y_pred = model.predict_proba(X_val)[:,1]\n",
    "y_pred"
   ]
  },
  {
   "cell_type": "code",
   "execution_count": 23,
   "id": "aaf6bbb8",
   "metadata": {},
   "outputs": [],
   "source": [
    "from sklearn.metrics import auc"
   ]
  },
  {
   "cell_type": "code",
   "execution_count": 24,
   "id": "a43414c1",
   "metadata": {},
   "outputs": [],
   "source": [
    "# Using the scikit learn funtion \"roc_curve\" we obtain the FPR and TPT\n",
    "fpr, tpr, _ = roc_curve(y_val, y_pred)"
   ]
  },
  {
   "cell_type": "code",
   "execution_count": 25,
   "id": "786a8993",
   "metadata": {},
   "outputs": [
    {
     "name": "stdout",
     "output_type": "stream",
     "text": [
      "The AUC value is **0.979**\n"
     ]
    }
   ],
   "source": [
    "# Finally, we get the AUC value\n",
    "print ('The AUC value is **%.3f**' % auc(fpr, tpr))"
   ]
  },
  {
   "cell_type": "markdown",
   "id": "1164147a",
   "metadata": {},
   "source": [
    "### Question 3: Precision and Recall"
   ]
  },
  {
   "cell_type": "code",
   "execution_count": 26,
   "id": "8c699e92",
   "metadata": {},
   "outputs": [],
   "source": [
    "# Let's see for all of the possible thresholds values\n",
    "def calc_scores(y_val, y_pred):\n",
    "    scores = []\n",
    "    thresholds = np.arange(0, 1.01, 0.01)\n",
    "\n",
    "    actual_positive = (y_val == 1)\n",
    "    actual_negative = (y_val == 0)\n",
    "\n",
    "    for t in thresholds:\n",
    "        predict_positive = (y_pred >= t)\n",
    "        predict_negative = (y_pred < t)\n",
    "\n",
    "        tp = (predict_positive & actual_positive).sum()\n",
    "        tn = (predict_negative & actual_negative).sum()\n",
    "        fp = (predict_positive & actual_negative).sum()\n",
    "        fn = (predict_negative & actual_positive).sum()\n",
    "\n",
    "        # compute precision and recall\n",
    "        precision = tp / (tp + fp)\n",
    "        recall  = tp / (tp + fn)\n",
    "        F1 = 2 *  precision * recall / (precision + recall)\n",
    "\n",
    "        scores.append((t, tp, tn, fp, fn, precision, recall, F1))\n",
    "    return scores"
   ]
  },
  {
   "cell_type": "code",
   "execution_count": 27,
   "id": "d2e0b140",
   "metadata": {},
   "outputs": [
    {
     "name": "stderr",
     "output_type": "stream",
     "text": [
      "/tmp/ipykernel_11442/2735274939.py:19: RuntimeWarning: invalid value encountered in long_scalars\n",
      "  precision = tp / (tp + fp)\n"
     ]
    },
    {
     "data": {
      "text/html": [
       "<div>\n",
       "<style scoped>\n",
       "    .dataframe tbody tr th:only-of-type {\n",
       "        vertical-align: middle;\n",
       "    }\n",
       "\n",
       "    .dataframe tbody tr th {\n",
       "        vertical-align: top;\n",
       "    }\n",
       "\n",
       "    .dataframe thead th {\n",
       "        text-align: right;\n",
       "    }\n",
       "</style>\n",
       "<table border=\"1\" class=\"dataframe\">\n",
       "  <thead>\n",
       "    <tr style=\"text-align: right;\">\n",
       "      <th></th>\n",
       "      <th>thresholds</th>\n",
       "      <th>tp</th>\n",
       "      <th>tn</th>\n",
       "      <th>fp</th>\n",
       "      <th>fn</th>\n",
       "      <th>precision</th>\n",
       "      <th>recall</th>\n",
       "      <th>F1</th>\n",
       "    </tr>\n",
       "  </thead>\n",
       "  <tbody>\n",
       "    <tr>\n",
       "      <th>0</th>\n",
       "      <td>0.0</td>\n",
       "      <td>654</td>\n",
       "      <td>0</td>\n",
       "      <td>1729</td>\n",
       "      <td>0</td>\n",
       "      <td>0.274444</td>\n",
       "      <td>1.000000</td>\n",
       "      <td>0.430688</td>\n",
       "    </tr>\n",
       "    <tr>\n",
       "      <th>10</th>\n",
       "      <td>0.1</td>\n",
       "      <td>644</td>\n",
       "      <td>1398</td>\n",
       "      <td>331</td>\n",
       "      <td>10</td>\n",
       "      <td>0.660513</td>\n",
       "      <td>0.984709</td>\n",
       "      <td>0.790669</td>\n",
       "    </tr>\n",
       "    <tr>\n",
       "      <th>20</th>\n",
       "      <td>0.2</td>\n",
       "      <td>623</td>\n",
       "      <td>1529</td>\n",
       "      <td>200</td>\n",
       "      <td>31</td>\n",
       "      <td>0.756987</td>\n",
       "      <td>0.952599</td>\n",
       "      <td>0.843602</td>\n",
       "    </tr>\n",
       "    <tr>\n",
       "      <th>30</th>\n",
       "      <td>0.3</td>\n",
       "      <td>607</td>\n",
       "      <td>1589</td>\n",
       "      <td>140</td>\n",
       "      <td>47</td>\n",
       "      <td>0.812584</td>\n",
       "      <td>0.928135</td>\n",
       "      <td>0.866524</td>\n",
       "    </tr>\n",
       "    <tr>\n",
       "      <th>40</th>\n",
       "      <td>0.4</td>\n",
       "      <td>590</td>\n",
       "      <td>1625</td>\n",
       "      <td>104</td>\n",
       "      <td>64</td>\n",
       "      <td>0.850144</td>\n",
       "      <td>0.902141</td>\n",
       "      <td>0.875371</td>\n",
       "    </tr>\n",
       "    <tr>\n",
       "      <th>50</th>\n",
       "      <td>0.5</td>\n",
       "      <td>569</td>\n",
       "      <td>1659</td>\n",
       "      <td>70</td>\n",
       "      <td>85</td>\n",
       "      <td>0.890454</td>\n",
       "      <td>0.870031</td>\n",
       "      <td>0.880124</td>\n",
       "    </tr>\n",
       "    <tr>\n",
       "      <th>60</th>\n",
       "      <td>0.6</td>\n",
       "      <td>550</td>\n",
       "      <td>1679</td>\n",
       "      <td>50</td>\n",
       "      <td>104</td>\n",
       "      <td>0.916667</td>\n",
       "      <td>0.840979</td>\n",
       "      <td>0.877193</td>\n",
       "    </tr>\n",
       "    <tr>\n",
       "      <th>70</th>\n",
       "      <td>0.7</td>\n",
       "      <td>507</td>\n",
       "      <td>1702</td>\n",
       "      <td>27</td>\n",
       "      <td>147</td>\n",
       "      <td>0.949438</td>\n",
       "      <td>0.775229</td>\n",
       "      <td>0.853535</td>\n",
       "    </tr>\n",
       "    <tr>\n",
       "      <th>80</th>\n",
       "      <td>0.8</td>\n",
       "      <td>466</td>\n",
       "      <td>1713</td>\n",
       "      <td>16</td>\n",
       "      <td>188</td>\n",
       "      <td>0.966805</td>\n",
       "      <td>0.712538</td>\n",
       "      <td>0.820423</td>\n",
       "    </tr>\n",
       "    <tr>\n",
       "      <th>90</th>\n",
       "      <td>0.9</td>\n",
       "      <td>376</td>\n",
       "      <td>1726</td>\n",
       "      <td>3</td>\n",
       "      <td>278</td>\n",
       "      <td>0.992084</td>\n",
       "      <td>0.574924</td>\n",
       "      <td>0.727977</td>\n",
       "    </tr>\n",
       "    <tr>\n",
       "      <th>100</th>\n",
       "      <td>1.0</td>\n",
       "      <td>0</td>\n",
       "      <td>1729</td>\n",
       "      <td>0</td>\n",
       "      <td>654</td>\n",
       "      <td>NaN</td>\n",
       "      <td>0.000000</td>\n",
       "      <td>NaN</td>\n",
       "    </tr>\n",
       "  </tbody>\n",
       "</table>\n",
       "</div>"
      ],
      "text/plain": [
       "     thresholds   tp    tn    fp   fn  precision    recall        F1\n",
       "0           0.0  654     0  1729    0   0.274444  1.000000  0.430688\n",
       "10          0.1  644  1398   331   10   0.660513  0.984709  0.790669\n",
       "20          0.2  623  1529   200   31   0.756987  0.952599  0.843602\n",
       "30          0.3  607  1589   140   47   0.812584  0.928135  0.866524\n",
       "40          0.4  590  1625   104   64   0.850144  0.902141  0.875371\n",
       "50          0.5  569  1659    70   85   0.890454  0.870031  0.880124\n",
       "60          0.6  550  1679    50  104   0.916667  0.840979  0.877193\n",
       "70          0.7  507  1702    27  147   0.949438  0.775229  0.853535\n",
       "80          0.8  466  1713    16  188   0.966805  0.712538  0.820423\n",
       "90          0.9  376  1726     3  278   0.992084  0.574924  0.727977\n",
       "100         1.0    0  1729     0  654        NaN  0.000000       NaN"
      ]
     },
     "execution_count": 27,
     "metadata": {},
     "output_type": "execute_result"
    }
   ],
   "source": [
    "columns = ['thresholds', 'tp', 'tn', 'fp', 'fn', 'precision', 'recall', 'F1']\n",
    "df_scores = pd.DataFrame(calc_scores(y_val, y_pred), columns=columns)\n",
    "df_scores[::10]"
   ]
  },
  {
   "cell_type": "code",
   "execution_count": 28,
   "id": "1144d868",
   "metadata": {},
   "outputs": [],
   "source": [
    "import matplotlib.pyplot as plt"
   ]
  },
  {
   "cell_type": "code",
   "execution_count": 29,
   "id": "6021b0cc",
   "metadata": {},
   "outputs": [
    {
     "data": {
      "image/png": "[encoded data removed]",
      "text/plain": [
       "<Figure size 640x480 with 1 Axes>"
      ]
     },
     "metadata": {},
     "output_type": "display_data"
    }
   ],
   "source": [
    "plt.plot(df_scores.thresholds, df_scores.precision, label='Precision')\n",
    "plt.plot(df_scores.thresholds, df_scores.recall, label='Recall')\n",
    "plt.legend()\n",
    "plt.xlabel('Threshold');"
   ]
  },
  {
   "cell_type": "code",
   "execution_count": 30,
   "id": "2c6d60b3",
   "metadata": {},
   "outputs": [
    {
     "data": {
      "text/html": [
       "<div>\n",
       "<style scoped>\n",
       "    .dataframe tbody tr th:only-of-type {\n",
       "        vertical-align: middle;\n",
       "    }\n",
       "\n",
       "    .dataframe tbody tr th {\n",
       "        vertical-align: top;\n",
       "    }\n",
       "\n",
       "    .dataframe thead th {\n",
       "        text-align: right;\n",
       "    }\n",
       "</style>\n",
       "<table border=\"1\" class=\"dataframe\">\n",
       "  <thead>\n",
       "    <tr style=\"text-align: right;\">\n",
       "      <th></th>\n",
       "      <th>thresholds</th>\n",
       "      <th>precision</th>\n",
       "      <th>recall</th>\n",
       "    </tr>\n",
       "  </thead>\n",
       "  <tbody>\n",
       "    <tr>\n",
       "      <th>45</th>\n",
       "      <td>0.45</td>\n",
       "      <td>0.87</td>\n",
       "      <td>0.89</td>\n",
       "    </tr>\n",
       "    <tr>\n",
       "      <th>46</th>\n",
       "      <td>0.46</td>\n",
       "      <td>0.87</td>\n",
       "      <td>0.89</td>\n",
       "    </tr>\n",
       "    <tr>\n",
       "      <th>47</th>\n",
       "      <td>0.47</td>\n",
       "      <td>0.88</td>\n",
       "      <td>0.88</td>\n",
       "    </tr>\n",
       "    <tr>\n",
       "      <th>48</th>\n",
       "      <td>0.48</td>\n",
       "      <td>0.88</td>\n",
       "      <td>0.88</td>\n",
       "    </tr>\n",
       "    <tr>\n",
       "      <th>49</th>\n",
       "      <td>0.49</td>\n",
       "      <td>0.88</td>\n",
       "      <td>0.88</td>\n",
       "    </tr>\n",
       "    <tr>\n",
       "      <th>50</th>\n",
       "      <td>0.50</td>\n",
       "      <td>0.89</td>\n",
       "      <td>0.87</td>\n",
       "    </tr>\n",
       "  </tbody>\n",
       "</table>\n",
       "</div>"
      ],
      "text/plain": [
       "    thresholds  precision  recall\n",
       "45        0.45       0.87    0.89\n",
       "46        0.46       0.87    0.89\n",
       "47        0.47       0.88    0.88\n",
       "48        0.48       0.88    0.88\n",
       "49        0.49       0.88    0.88\n",
       "50        0.50       0.89    0.87"
      ]
     },
     "execution_count": 30,
     "metadata": {},
     "output_type": "execute_result"
    }
   ],
   "source": [
    "df_scores[['thresholds', 'precision', 'recall']][45:51].round(2)"
   ]
  },
  {
   "cell_type": "markdown",
   "id": "7b666469",
   "metadata": {},
   "source": [
    "<u>**Answer**</u>: at **threshold = 0.48** precision and recall curves intersect"
   ]
  },
  {
   "cell_type": "markdown",
   "id": "b53b34dc",
   "metadata": {},
   "source": [
    "### Question 4: F1 score"
   ]
  },
  {
   "cell_type": "code",
   "execution_count": 31,
   "id": "61594a4b",
   "metadata": {},
   "outputs": [
    {
     "name": "stdout",
     "output_type": "stream",
     "text": [
      "The threshold at the max F1 value is **0.51**\n"
     ]
    }
   ],
   "source": [
    "t_max_F1 = df_scores.iloc[df_scores['F1'].idxmax()]['thresholds']\n",
    "print ('The threshold at the max F1 value is **%s**' % (t_max_F1))"
   ]
  },
  {
   "cell_type": "markdown",
   "id": "7deb9830",
   "metadata": {},
   "source": [
    "### Question 5: 5-Fold CV"
   ]
  },
  {
   "cell_type": "code",
   "execution_count": 32,
   "id": "1438afeb",
   "metadata": {},
   "outputs": [],
   "source": [
    "from sklearn.model_selection import KFold"
   ]
  },
  {
   "cell_type": "code",
   "execution_count": 33,
   "id": "8cc93cd6",
   "metadata": {},
   "outputs": [],
   "source": [
    "def train(df_train, y_train, C=1.0):\n",
    "    dicts = df_train[features].to_dict(orient='records')\n",
    "\n",
    "    dv = DictVectorizer(sparse=False)\n",
    "    X_train = dv.fit_transform(dicts)\n",
    "\n",
    "    model = LogisticRegression(solver='liblinear', C=C, max_iter=1000)\n",
    "    model.fit(X_train, y_train)\n",
    "    \n",
    "    return dv, model"
   ]
  },
  {
   "cell_type": "code",
   "execution_count": 34,
   "id": "8e5de5c0",
   "metadata": {},
   "outputs": [],
   "source": [
    "def predict(df, dv, model):\n",
    "    dicts = df[features].to_dict(orient='records')\n",
    "\n",
    "    X = dv.transform(dicts)\n",
    "    y_pred = model.predict_proba(X)[:, 1]\n",
    "\n",
    "    return y_pred"
   ]
  },
  {
   "cell_type": "code",
   "execution_count": 35,
   "id": "2fc8e31d",
   "metadata": {},
   "outputs": [],
   "source": [
    "def auc_scores(n_splits, C=1.0):\n",
    "    \n",
    "    scores = []\n",
    "    # instantiate the KFold class\n",
    "    kfold = KFold(n_splits=n_splits, shuffle=True, random_state=1)\n",
    "\n",
    "    for train_idx, val_idx in kfold.split(df_full_train):\n",
    "        # split the data\n",
    "        df_train = df_full_train.iloc[train_idx]\n",
    "        df_val = df_full_train.iloc[val_idx]\n",
    "        y_train = df_train.above_average.values\n",
    "        y_val = df_val.above_average.values\n",
    "\n",
    "        # train the model\n",
    "        dv, model = train(df_train, y_train, C)\n",
    "        # predict the model\n",
    "        y_pred = predict(df_val, dv, model)\n",
    "\n",
    "        # calculate the AUC\n",
    "        auc = roc_auc_score(y_val, y_pred)\n",
    "        scores.append(auc)\n",
    "\n",
    "    return scores"
   ]
  },
  {
   "cell_type": "code",
   "execution_count": 36,
   "id": "6f831a97",
   "metadata": {},
   "outputs": [
    {
     "name": "stdout",
     "output_type": "stream",
     "text": [
      "The Standard Deviation is ** 0.003 **\n"
     ]
    }
   ],
   "source": [
    "n_splits = 5\n",
    "C = 1\n",
    "scores = auc_scores(n_splits, C)\n",
    "print('The Standard Deviation is ** %.3f **' % (np.std(scores)))"
   ]
  },
  {
   "cell_type": "markdown",
   "id": "d77645fc",
   "metadata": {},
   "source": [
    "### Question 6: Hyperparameter Tuning"
   ]
  },
  {
   "cell_type": "code",
   "execution_count": 37,
   "id": "96cee940",
   "metadata": {},
   "outputs": [
    {
     "name": "stdout",
     "output_type": "stream",
     "text": [
      "C=0.01 0.952 +- 0.002\n",
      "C=0.1 0.972 +- 0.002\n",
      "C=0.5 0.977 +- 0.001\n",
      "C=10 0.983 +- 0.003\n"
     ]
    }
   ],
   "source": [
    "n_splits = 5\n",
    "for C in [0.01, 0.1, 0.5, 10]:\n",
    "    scores = auc_scores(n_splits, C)\n",
    "    print('C=%s %.3f +- %.3f' % (C, np.mean(scores), np.std(scores)))"
   ]
  },
  {
   "cell_type": "markdown",
   "id": "214489f0",
   "metadata": {},
   "source": [
    "<u>**Answer**</u>: the C that leads to the best score is **C=10**"
   ]
  }
 ],
 "metadata": {
  "kernelspec": {
   "display_name": "Python 3 (ipykernel)",
   "language": "python",
   "name": "python3"
  },
  "language_info": {
   "codemirror_mode": {
    "name": "ipython",
    "version": 3
   },
   "file_extension": ".py",
   "mimetype": "text/x-python",
   "name": "python",
   "nbconvert_exporter": "python",
   "pygments_lexer": "ipython3",
   "version": "3.10.6"
  },
  "toc": {
   "base_numbering": 1,
   "nav_menu": {},
   "number_sections": true,
   "sideBar": true,
   "skip_h1_title": false,
   "title_cell": "Table of Contents",
   "title_sidebar": "Contents",
   "toc_cell": false,
   "toc_position": {},
   "toc_section_display": true,
   "toc_window_display": false
  }
 },
 "nbformat": 4,
 "nbformat_minor": 5
}
